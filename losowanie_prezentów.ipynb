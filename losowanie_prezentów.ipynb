{
  "nbformat": 4,
  "nbformat_minor": 0,
  "metadata": {
    "colab": {
      "provenance": []
    },
    "kernelspec": {
      "name": "python3",
      "display_name": "Python 3"
    },
    "language_info": {
      "name": "python"
    }
  },
  "cells": [
    {
      "cell_type": "markdown",
      "source": [
        "# Losowanie prezentów\n",
        "\n",
        "Notebook do uruchomienia na Google Colab."
      ],
      "metadata": {
        "id": "H5eF6sqgSE_V"
      }
    },
    {
      "cell_type": "code",
      "source": [
        "import random\n",
        "from copy import copy\n",
        "from datetime import datetime\n",
        "import os\n",
        "from google.colab import files"
      ],
      "metadata": {
        "id": "QR5fq14UUqwj"
      },
      "execution_count": 1,
      "outputs": []
    },
    {
      "cell_type": "markdown",
      "source": [
        "Lista osób:"
      ],
      "metadata": {
        "id": "lVT6CGqlSM1Y"
      }
    },
    {
      "cell_type": "code",
      "execution_count": 2,
      "metadata": {
        "id": "HsgVugTVR52R"
      },
      "outputs": [],
      "source": [
        " ppl_from = [\n",
        "    \"Osoba 1\",\n",
        "    \"Osoba 2\",\n",
        "    \"Osoba 3\",\n",
        "    \"Osoba 4\",\n",
        "    \"Osoba 5\",\n",
        "    \"Osoba 6\"\n",
        "]"
      ]
    },
    {
      "cell_type": "markdown",
      "source": [
        "Sprawdź poprawność listy:"
      ],
      "metadata": {
        "id": "L2UkuPJEhtuv"
      }
    },
    {
      "cell_type": "code",
      "source": [
        "if all(isinstance(x, str) for x in ppl_from):\n",
        "    if (len(set(ppl_from)) == len(ppl_from)):\n",
        "        print(\"Lista OK.\")\n",
        "    else:\n",
        "        print(\"Ludzie się powtarzają!\")\n",
        "else:\n",
        "    print(\"Wszystkie imiona muszą być tekstem!\")"
      ],
      "metadata": {
        "colab": {
          "base_uri": "https://localhost:8080/"
        },
        "id": "CFwyRNJzR886",
        "outputId": "580cbdd3-ec21-452a-aa84-e6e43cbe24d1"
      },
      "execution_count": 3,
      "outputs": [
        {
          "output_type": "stream",
          "name": "stdout",
          "text": [
            "Lista OK.\n"
          ]
        }
      ]
    },
    {
      "cell_type": "code",
      "source": [
        "ppl_to = copy(ppl_from)"
      ],
      "metadata": {
        "id": "5BUwu7hhS61k"
      },
      "execution_count": 4,
      "outputs": []
    },
    {
      "cell_type": "markdown",
      "source": [
        "Przetasowanie listy \"dla kogo\" dopóki nie występuje sytuacja, że ktoś kupuje dla siebie:"
      ],
      "metadata": {
        "id": "gg1L_OL4ULkv"
      }
    },
    {
      "cell_type": "code",
      "source": [
        "ppl_from"
      ],
      "metadata": {
        "colab": {
          "base_uri": "https://localhost:8080/"
        },
        "id": "9MsEXSEBomJ0",
        "outputId": "6703dafc-7830-435c-89e1-8cf5a367f92f"
      },
      "execution_count": 5,
      "outputs": [
        {
          "output_type": "execute_result",
          "data": {
            "text/plain": [
              "['Osoba 1', 'Osoba 2', 'Osoba 3', 'Osoba 4', 'Osoba 5', 'Osoba 6']"
            ]
          },
          "metadata": {},
          "execution_count": 5
        }
      ]
    },
    {
      "cell_type": "code",
      "source": [
        "ppl_to"
      ],
      "metadata": {
        "colab": {
          "base_uri": "https://localhost:8080/"
        },
        "id": "I0-iUvhxonm4",
        "outputId": "de50aa36-eee8-48c9-f44a-d32f89c1f6c3"
      },
      "execution_count": 6,
      "outputs": [
        {
          "output_type": "execute_result",
          "data": {
            "text/plain": [
              "['Osoba 1', 'Osoba 2', 'Osoba 3', 'Osoba 4', 'Osoba 5', 'Osoba 6']"
            ]
          },
          "metadata": {},
          "execution_count": 6
        }
      ]
    },
    {
      "cell_type": "markdown",
      "source": [
        "Dodatkowe warunki (kto nie może kupować dla kogo):"
      ],
      "metadata": {
        "id": "ihrpdZTytIOL"
      }
    },
    {
      "cell_type": "code",
      "source": [
        "mismatches = [\n",
        "    (\"Osoba 1\", \"Osoba 2\"),\n",
        "    (\"Osoba 2\", \"Osoba 1\")\n",
        "]"
      ],
      "metadata": {
        "id": "eqrbcouWnQcD"
      },
      "execution_count": 7,
      "outputs": []
    },
    {
      "cell_type": "markdown",
      "source": [
        "Losuj dopóki nikt nie będzie miał samego siebie i nie będzie dodatkowych wykluczeń:"
      ],
      "metadata": {
        "id": "SpdwjtAF68rU"
      }
    },
    {
      "cell_type": "code",
      "source": [
        "self_pick = True\n",
        "mismatches_present = True\n",
        "all_clear = False\n",
        "counter = 0\n",
        "\n",
        "while not all_clear:\n",
        "    counter += 1\n",
        "    print(f\"Próba losowania nr {counter}...\")\n",
        "    random.shuffle(ppl_to)\n",
        "    picks = list(zip(ppl_from, ppl_to))\n",
        "    self_pick = any([True if i == j else False for i, j in picks])\n",
        "    if self_pick:\n",
        "        print(\"Wykryto prezent dla samego siebie!\")\n",
        "    mismatch_detected = False\n",
        "    mismatches_list = []\n",
        "    for pick in picks:\n",
        "        for mismatch in mismatches:\n",
        "            mismatch_detected = mismatch == pick\n",
        "            mismatches_list.append(mismatch_detected)\n",
        "            if mismatch_detected:\n",
        "                print(\"Wykryto dodatkowe wykluczenie!\")\n",
        "    mismatches_present = any(mismatches_list)\n",
        "    all_clear = not(self_pick or mismatches_present)\n",
        "\n",
        "print(\"Gotowe.\")"
      ],
      "metadata": {
        "colab": {
          "base_uri": "https://localhost:8080/"
        },
        "id": "jZur9ICuVQex",
        "outputId": "ae2f00f6-ec23-4bdd-daf3-76616b71297d"
      },
      "execution_count": 8,
      "outputs": [
        {
          "output_type": "stream",
          "name": "stdout",
          "text": [
            "Próba losowania nr 1...\n",
            "Wykryto prezent dla samego siebie!\n",
            "Próba losowania nr 2...\n",
            "Wykryto prezent dla samego siebie!\n",
            "Próba losowania nr 3...\n",
            "Wykryto prezent dla samego siebie!\n",
            "Próba losowania nr 4...\n",
            "Wykryto prezent dla samego siebie!\n",
            "Próba losowania nr 5...\n",
            "Wykryto prezent dla samego siebie!\n",
            "Próba losowania nr 6...\n",
            "Wykryto prezent dla samego siebie!\n",
            "Próba losowania nr 7...\n",
            "Wykryto prezent dla samego siebie!\n",
            "Próba losowania nr 8...\n",
            "Wykryto prezent dla samego siebie!\n",
            "Próba losowania nr 9...\n",
            "Gotowe.\n"
          ]
        }
      ]
    },
    {
      "cell_type": "markdown",
      "source": [
        "Stwórz folder wynikowy:"
      ],
      "metadata": {
        "id": "xDidvUO5hm34"
      }
    },
    {
      "cell_type": "code",
      "source": [
        "timestamp = datetime.now().strftime(\"%Y%m%d%H%M%S\")\n",
        "results_folder = f\"wyniki_{timestamp}\"\n",
        "os.makedirs(results_folder)"
      ],
      "metadata": {
        "id": "rtKHtYXNhVFj"
      },
      "execution_count": 9,
      "outputs": []
    },
    {
      "cell_type": "markdown",
      "source": [
        "Zapisz wyniki do plików z imionami:"
      ],
      "metadata": {
        "id": "tMmarobIg8yg"
      }
    },
    {
      "cell_type": "code",
      "source": [
        "for p_from, p_to in zip(ppl_from, ppl_to):\n",
        "    linebreaks = \"\\n\"*50\n",
        "    match = f\"{p_from} kupuje prezent dla:{linebreaks}{p_to}\"\n",
        "    person_fpath = os.path.join(results_folder, f\"{p_from}.txt\")\n",
        "    with open(person_fpath, \"w\") as f:\n",
        "        f.write(match)\n",
        "    print(f\"Zapisano wyniki dla {p_from} w pliku: {person_fpath}\")"
      ],
      "metadata": {
        "colab": {
          "base_uri": "https://localhost:8080/"
        },
        "id": "O55gyMP1fACk",
        "outputId": "67e29ac8-f181-4aba-8ae0-c1775737f516"
      },
      "execution_count": 10,
      "outputs": [
        {
          "output_type": "stream",
          "name": "stdout",
          "text": [
            "Zapisano wyniki dla Osoba 1 w pliku: wyniki_20231207092438/Osoba 1.txt\n",
            "Zapisano wyniki dla Osoba 2 w pliku: wyniki_20231207092438/Osoba 2.txt\n",
            "Zapisano wyniki dla Osoba 3 w pliku: wyniki_20231207092438/Osoba 3.txt\n",
            "Zapisano wyniki dla Osoba 4 w pliku: wyniki_20231207092438/Osoba 4.txt\n",
            "Zapisano wyniki dla Osoba 5 w pliku: wyniki_20231207092438/Osoba 5.txt\n",
            "Zapisano wyniki dla Osoba 6 w pliku: wyniki_20231207092438/Osoba 6.txt\n"
          ]
        }
      ]
    },
    {
      "cell_type": "markdown",
      "source": [
        "Spakuj i pobierz folder z wynikami (trzeba poczekać aż faktycznie się ściągną):"
      ],
      "metadata": {
        "id": "xzPN_FUxjoS7"
      }
    },
    {
      "cell_type": "code",
      "source": [
        "output_filename = f\"{results_folder}.zip\"\n",
        "os.system(f\"zip -r {output_filename} {results_folder}\")\n",
        "files.download(output_filename)\n",
        "print(f\"Wyniki zapisane jako: {output_filename}\")"
      ],
      "metadata": {
        "colab": {
          "base_uri": "https://localhost:8080/",
          "height": 34
        },
        "id": "jq9Vq5Zjjqny",
        "outputId": "2ad7f7f0-7f2d-45d6-ea47-65c7a59cd31f"
      },
      "execution_count": 11,
      "outputs": [
        {
          "output_type": "display_data",
          "data": {
            "text/plain": [
              "<IPython.core.display.Javascript object>"
            ],
            "application/javascript": [
              "\n",
              "    async function download(id, filename, size) {\n",
              "      if (!google.colab.kernel.accessAllowed) {\n",
              "        return;\n",
              "      }\n",
              "      const div = document.createElement('div');\n",
              "      const label = document.createElement('label');\n",
              "      label.textContent = `Downloading \"${filename}\": `;\n",
              "      div.appendChild(label);\n",
              "      const progress = document.createElement('progress');\n",
              "      progress.max = size;\n",
              "      div.appendChild(progress);\n",
              "      document.body.appendChild(div);\n",
              "\n",
              "      const buffers = [];\n",
              "      let downloaded = 0;\n",
              "\n",
              "      const channel = await google.colab.kernel.comms.open(id);\n",
              "      // Send a message to notify the kernel that we're ready.\n",
              "      channel.send({})\n",
              "\n",
              "      for await (const message of channel.messages) {\n",
              "        // Send a message to notify the kernel that we're ready.\n",
              "        channel.send({})\n",
              "        if (message.buffers) {\n",
              "          for (const buffer of message.buffers) {\n",
              "            buffers.push(buffer);\n",
              "            downloaded += buffer.byteLength;\n",
              "            progress.value = downloaded;\n",
              "          }\n",
              "        }\n",
              "      }\n",
              "      const blob = new Blob(buffers, {type: 'application/binary'});\n",
              "      const a = document.createElement('a');\n",
              "      a.href = window.URL.createObjectURL(blob);\n",
              "      a.download = filename;\n",
              "      div.appendChild(a);\n",
              "      a.click();\n",
              "      div.remove();\n",
              "    }\n",
              "  "
            ]
          },
          "metadata": {}
        },
        {
          "output_type": "display_data",
          "data": {
            "text/plain": [
              "<IPython.core.display.Javascript object>"
            ],
            "application/javascript": [
              "download(\"download_1396ce76-ea82-429d-b734-808b052cd811\", \"wyniki_20231207092438.zip\", 1574)"
            ]
          },
          "metadata": {}
        },
        {
          "output_type": "stream",
          "name": "stdout",
          "text": [
            "Wyniki zapisane jako: wyniki_20231207092438.zip\n"
          ]
        }
      ]
    },
    {
      "cell_type": "markdown",
      "source": [
        "Usuń wyniki z Colaba:"
      ],
      "metadata": {
        "id": "4n387gw8lpCq"
      }
    },
    {
      "cell_type": "code",
      "source": [
        "delete_after_download = True\n",
        "\n",
        "if delete_after_download:\n",
        "    os.system(f\"rm -r {results_folder}\")\n",
        "    os.system(f\"rm -r {output_filename}\")"
      ],
      "metadata": {
        "id": "UfR9hC1clogU"
      },
      "execution_count": 12,
      "outputs": []
    }
  ]
}